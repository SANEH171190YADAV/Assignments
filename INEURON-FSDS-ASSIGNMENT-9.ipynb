{
 "cells": [
  {
   "cell_type": "raw",
   "id": "efeaeb66",
   "metadata": {},
   "source": [
    "1.\tTo what does a relative path refer?\n",
    "Ans: The relative path is the hierarchical path where the file is located with respect to current working directory.. \n",
    "2.\tWhat does an absolute path start with your operating system?\n",
    "Ans: It is the location of file or folder regardless of current working directory.\n",
    "\n",
    "3.\tWhat do the functions os.getcwd() and os.chdir() do?\n",
    "Ans: os.getcwd() means change working directory and os.chdir() means change directory.\n",
    "4.\tWhat are the . and .. folders?\n",
    "Ans: . is for “this directory and .. for the parent directory.\n",
    "\n",
    "5.\tIn C:\\bacon\\eggs\\spam.txt, which part is the dir name, and which part is the base name?\n",
    "Ans: base name is spam and directory name is c:\\bacon\\eggs.\n",
    "6.\tWhat are the three “mode” arguments that can be passed to the open() function?\n",
    "Ans: read, write and append\n",
    "\n",
    "7.\tWhat happens if an existing file is opened in write mode?\n",
    "Ans: it overwrites the existing file\n",
    "8.\tHow do you tell the difference between read() and readlines()?\n",
    "Ans: read() : it reads the complete file in a string and readlines() means reading line by line.\n",
    "\n",
    "9.\tWhat data structure does a shelf value resemble?\n",
    "Ans: it resembles a directory\n"
   ]
  }
 ],
 "metadata": {
  "kernelspec": {
   "display_name": "Python 3 (ipykernel)",
   "language": "python",
   "name": "python3"
  },
  "language_info": {
   "codemirror_mode": {
    "name": "ipython",
    "version": 3
   },
   "file_extension": ".py",
   "mimetype": "text/x-python",
   "name": "python",
   "nbconvert_exporter": "python",
   "pygments_lexer": "ipython3",
   "version": "3.9.7"
  }
 },
 "nbformat": 4,
 "nbformat_minor": 5
}
