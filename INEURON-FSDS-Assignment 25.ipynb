{
 "cells": [
  {
   "cell_type": "raw",
   "id": "eee1a1d8",
   "metadata": {},
   "source": [
    "Q1)\t. What is the difference between enclosing a list comprehension in square brackets and parentheses?\n",
    "Ans: [] is used for list and () is used for tuples.\n",
    "\n",
    "Q2) What is the relationship between generators and iterators?\n",
    "Ans: iterator is anything from which we can extract elements one by one. Iterators are used mostly to iterate or convert other objects to an iterator using the iter() function. The generator is a kind of object that can generate some data based on some previously defined logic or set of rules. The generator need not to remember the data produced earlier, or we can say it need not to store the previously defined or produced. Generators are mostly used in loops to generate an iterator by returning all the values in the loop without affecting the iteration of the loop\n",
    "The generator needs to remember only last produced element and the logic \n",
    "\n",
    "Q3)\tWhat are the signs that a function is a generator function?\n",
    "Ans: If it contains at least one yield statement.\n",
    "\n",
    "Q4) What is the purpose of a yield statement?\n",
    "Ans: yield-- is an operator used to convert a function as a generator. Yield operator helps you to convert a function into the  generator and it handles the range like functions\n",
    "\n",
    "Q5) What is the relationship between map calls and list comprehensions? Make a comparison and contrast between the two.\n",
    "Ans: List comprehension works faster than map calls.\n",
    "\n"
   ]
  }
 ],
 "metadata": {
  "kernelspec": {
   "display_name": "Python 3 (ipykernel)",
   "language": "python",
   "name": "python3"
  },
  "language_info": {
   "codemirror_mode": {
    "name": "ipython",
    "version": 3
   },
   "file_extension": ".py",
   "mimetype": "text/x-python",
   "name": "python",
   "nbconvert_exporter": "python",
   "pygments_lexer": "ipython3",
   "version": "3.9.7"
  }
 },
 "nbformat": 4,
 "nbformat_minor": 5
}
