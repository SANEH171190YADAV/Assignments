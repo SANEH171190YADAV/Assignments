{
 "cells": [
  {
   "cell_type": "raw",
   "id": "36bc8b5f",
   "metadata": {},
   "source": [
    "1.\tWhat are escape characters, and how do you use them?\n",
    "Ans: The characters which are illegal in a string re escape characters and these are used with backslash followed with the required characters.\n"
   ]
  },
  {
   "cell_type": "raw",
   "id": "441843fb",
   "metadata": {},
   "source": [
    "2.\tWhat do the escape characters n and t stand for?\n",
    "Ans: n means newline and t means tab\n"
   ]
  },
  {
   "cell_type": "raw",
   "id": "e834cff5",
   "metadata": {},
   "source": [
    "3.\tWhat is the way to include backslash characters in a string?\n",
    "Ans: use \\\\\n"
   ]
  },
  {
   "cell_type": "raw",
   "id": "430c6b29",
   "metadata": {},
   "source": [
    "4.\tThe string \"Howl's Moving Castle\" is a correct value. Why isn't the single quote character in the word Howl's not escaped a problem?\n",
    "Ans: because if we use single quote, it will consider that it is ended after howl and it will not read till the last character.\n"
   ]
  },
  {
   "cell_type": "raw",
   "id": "30c817c8",
   "metadata": {},
   "source": [
    "5.\tHow do you write a string of newlines if you don't want to use the n character?\n",
    "Ans:  \\n\n"
   ]
  },
  {
   "cell_type": "raw",
   "id": "362fdb79",
   "metadata": {},
   "source": [
    "6. What are the values of the given expressions?\n",
    "'Hello, world!'[1]\n",
    "Ans: ‘e’\n",
    "'Hello, world!'[0:5]\n",
    "Ans: 'Hello'\n",
    "'Hello, world!'[:5]\n",
    "Ans: 'Hello'\n",
    "'Hello, world!'[3:]\n",
    "Ans: 'lo, world!'\n"
   ]
  },
  {
   "cell_type": "raw",
   "id": "0013d0ed",
   "metadata": {},
   "source": [
    "7. What are the values of the following expressions?\n",
    "'Hello'.upper()\n",
    "Ans: 'HELLO'\n",
    "'Hello'.upper().isupper()\n",
    "Ans: True\n",
    "'Hello'.upper().lower()\n",
    "Ans: 'hello'\n"
   ]
  },
  {
   "cell_type": "raw",
   "id": "ae33f168",
   "metadata": {},
   "source": [
    "8. What are the values of the following expressions?\n",
    "'Remember, remember, the fifth of July.'.split()\n",
    "Ans: ['Remember,', 'remember,', 'the', 'fifth', 'of', 'July.']\n",
    "\n",
    "'-'.join('There can only one.'.split())\n",
    "Ans: 'There-can-only-one.'\n"
   ]
  },
  {
   "cell_type": "raw",
   "id": "db07e9ff",
   "metadata": {},
   "source": [
    "9. What are the methods for right-justifying, left-justifying, and centering a string?\n",
    "ljust\n",
    "rjust\n",
    "center\n"
   ]
  },
  {
   "cell_type": "raw",
   "id": "91f8d643",
   "metadata": {},
   "source": [
    "10. What is the best way to remove whitespace characters from the start or end?\n",
    "Ans: Trim is used to remove whitespaces.\n"
   ]
  },
  {
   "cell_type": "code",
   "execution_count": null,
   "id": "aac00bba",
   "metadata": {},
   "outputs": [],
   "source": []
  }
 ],
 "metadata": {
  "kernelspec": {
   "display_name": "Python 3 (ipykernel)",
   "language": "python",
   "name": "python3"
  },
  "language_info": {
   "codemirror_mode": {
    "name": "ipython",
    "version": 3
   },
   "file_extension": ".py",
   "mimetype": "text/x-python",
   "name": "python",
   "nbconvert_exporter": "python",
   "pygments_lexer": "ipython3",
   "version": "3.9.7"
  }
 },
 "nbformat": 4,
 "nbformat_minor": 5
}
