{
 "cells": [
  {
   "cell_type": "raw",
   "id": "972fde6a",
   "metadata": {},
   "source": [
    "1. What exactly is []?\n",
    "Ans: This is an empty list."
   ]
  },
  {
   "cell_type": "raw",
   "id": "d54a36d4",
   "metadata": {},
   "source": [
    "2. In a list of values stored in a variable called spam, how would you assign the value 'hello' as the third value? (Assume [2, 4, 6, 8, 10] are in spam.)\n",
    "Ans: spam = [2,4,6,8,10]\n",
    "    spam[2] = 'hello'"
   ]
  },
  {
   "cell_type": "raw",
   "id": "2c79da2c",
   "metadata": {},
   "source": [
    "Let's pretend the spam includes the list ['a', 'b', 'c', 'd'] for the next three queries.\n",
    "3. What is the value of spam[int(int('3' * 2) / 11)]?\n",
    "Ans: 'd'\n"
   ]
  },
  {
   "cell_type": "raw",
   "id": "a030d3f8",
   "metadata": {},
   "source": [
    "4. What is the value of spam[-1]?\n",
    "Ans: 'd'"
   ]
  },
  {
   "cell_type": "raw",
   "id": "90fa9395",
   "metadata": {},
   "source": [
    "5. What is the value of spam[:2]?\n",
    "Ans: ['a', 'b']"
   ]
  },
  {
   "cell_type": "raw",
   "id": "9e72fe63",
   "metadata": {},
   "source": [
    "Let's pretend bacon has the list [3.14, 'cat,' 11, 'cat,' True] for the next three questions.\n",
    "6. What is the value of bacon.index('cat')?\n",
    "Ans: 1\n"
   ]
  },
  {
   "cell_type": "raw",
   "id": "b5d1163a",
   "metadata": {},
   "source": [
    "7. How does bacon.append(99) change the look of the list value in bacon?\n",
    "Ans: becon = [3.14, 'cat,' 11, 'cat,' True, 99]"
   ]
  },
  {
   "cell_type": "raw",
   "id": "40b91133",
   "metadata": {},
   "source": [
    "8. How does bacon.remove('cat') change the look of the list in bacon?\n",
    "Ans: becon = [3.14, 11, True, 99]"
   ]
  },
  {
   "cell_type": "raw",
   "id": "ab0e41a5",
   "metadata": {},
   "source": [
    "9. What are the list concatenation and list replication operators?\n",
    "Ans: The list concatenation means to add or join two or more list elements. List replication means to create copies of a list."
   ]
  },
  {
   "cell_type": "raw",
   "id": "a355c614",
   "metadata": {},
   "source": [
    "10. What is difference between the list methods append() and insert()?\n",
    "ANs: Append means tp add a new element at last position of a list. Insert means to add or insert at a specific position of a list. "
   ]
  },
  {
   "cell_type": "raw",
   "id": "a7895ba9",
   "metadata": {},
   "source": [
    "11. What are the two methods for removing items from a list?\n",
    "Ans: remove(), pop(), clear() are the three method we can use to remove an item from a list."
   ]
  },
  {
   "cell_type": "raw",
   "id": "62e13468",
   "metadata": {},
   "source": [
    "12. Describe how list values and string values are identical.\n",
    "Ans: the list elements can be anything. but a string must contain th sequence of characters. Therefore to make list and string identical we need to have only chracters\n",
    "    or sequence of characters."
   ]
  },
  {
   "cell_type": "raw",
   "id": "87c4123a",
   "metadata": {},
   "source": [
    "13. What's the difference between tuples and lists?\n",
    "Ans: The list are mutable but tuples are immutable. Mutablity means we can modify the items."
   ]
  },
  {
   "cell_type": "raw",
   "id": "434838f1",
   "metadata": {},
   "source": [
    "14. How do you type a tuple value that only contains the integer 42?\n",
    "Ans: (42,)\n",
    "    for eg: a= (42,)"
   ]
  },
  {
   "cell_type": "raw",
   "id": "28908955",
   "metadata": {},
   "source": [
    "15. How do you get a list value's tuple form? How do you get a tuple value's list form?\n",
    "Ans: List comprehension along with zip() function is used to convert the tuples to list and create a list of tuples."
   ]
  },
  {
   "cell_type": "raw",
   "id": "05c7dff8",
   "metadata": {},
   "source": [
    "16. Variables that \"contain\" list values are not necessarily lists themselves. Instead, what do they contain?\n",
    "Ans: A list can have any type of element."
   ]
  },
  {
   "cell_type": "raw",
   "id": "7393a808",
   "metadata": {},
   "source": [
    "17. How do you distinguish between copy.copy() and copy.deepcopy()?\n",
    "Ans: copy.copy reflects changes made to the new/copied object in the original object.\tDeepcopy doesn't reflect changes made to the new/copied object in the original object."
   ]
  }
 ],
 "metadata": {
  "kernelspec": {
   "display_name": "Python 3 (ipykernel)",
   "language": "python",
   "name": "python3"
  },
  "language_info": {
   "codemirror_mode": {
    "name": "ipython",
    "version": 3
   },
   "file_extension": ".py",
   "mimetype": "text/x-python",
   "name": "python",
   "nbconvert_exporter": "python",
   "pygments_lexer": "ipython3",
   "version": "3.9.7"
  }
 },
 "nbformat": 4,
 "nbformat_minor": 5
}
