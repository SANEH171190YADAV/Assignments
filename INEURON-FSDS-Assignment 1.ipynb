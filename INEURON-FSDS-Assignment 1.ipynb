{
 "cells": [
  {
   "cell_type": "raw",
   "id": "19b8d6fd",
   "metadata": {},
   "source": [
    " 1. In the below elements which of them are values or an expression? eg:- values can be integer or string and expressions will be mathematical operators.\n",
    "* is an  expression\n",
    "'hello' is a value\n",
    "-87.8 -> value\n",
    "-  is an expression\n",
    "/ is an expression\n",
    "+\tis an expression\n",
    "6  is a value\n"
   ]
  },
  {
   "cell_type": "raw",
   "id": "e1f09bcc",
   "metadata": {},
   "source": [
    "2. What is the difference between string and variable?\n",
    "Ans: A string is a sequence of characters. The variable is anything which stores some values and the values can be string , number etc."
   ]
  },
  {
   "cell_type": "raw",
   "id": "e87ad538",
   "metadata": {},
   "source": [
    "3. Describe three different data types.\n",
    "Ans: boolen, set, dictionary, list, tuples"
   ]
  },
  {
   "cell_type": "raw",
   "id": "ae8c63f4",
   "metadata": {},
   "source": [
    "4. What is an expression made up of? What do all expressions do?\n",
    "Ans: An expression is made up of operators and values and  \n",
    " that need to be evaluated. "
   ]
  },
  {
   "cell_type": "raw",
   "id": "61e9b5c3",
   "metadata": {},
   "source": [
    "5. This assignment statements, like spam = 10. What is the difference between an expression and a statement?\n",
    "Ans: Here span = 10, spam is a variable which store a value 10. Here, = is an expression\n",
    "    spam is avariable and 10 is a value."
   ]
  },
  {
   "cell_type": "code",
   "execution_count": 2,
   "id": "dfa50753",
   "metadata": {},
   "outputs": [
    {
     "data": {
      "text/plain": [
       "23"
      ]
     },
     "execution_count": 2,
     "metadata": {},
     "output_type": "execute_result"
    }
   ],
   "source": [
    "# 6. After running the following code, what does the variable bacon contain?\n",
    "bacon = 22\n",
    "bacon + 1\n"
   ]
  },
  {
   "cell_type": "code",
   "execution_count": 3,
   "id": "758d2fcb",
   "metadata": {},
   "outputs": [
    {
     "data": {
      "text/plain": [
       "'spamspamspam'"
      ]
     },
     "execution_count": 3,
     "metadata": {},
     "output_type": "execute_result"
    }
   ],
   "source": [
    "# 7. What should the values of the following two terms be?\n",
    "'spam' + 'spamspam'\n",
    "'spam' * 3\n"
   ]
  },
  {
   "cell_type": "raw",
   "id": "6d23ee75",
   "metadata": {},
   "source": [
    "8. Why is eggs a valid variable name while 100 is invalid?\n",
    "Ans: Becuase 100 is an integer value which itself a value, therfore it can't be a variable. A variable is something which stores a values. "
   ]
  }
 ],
 "metadata": {
  "kernelspec": {
   "display_name": "Python 3 (ipykernel)",
   "language": "python",
   "name": "python3"
  },
  "language_info": {
   "codemirror_mode": {
    "name": "ipython",
    "version": 3
   },
   "file_extension": ".py",
   "mimetype": "text/x-python",
   "name": "python",
   "nbconvert_exporter": "python",
   "pygments_lexer": "ipython3",
   "version": "3.9.7"
  }
 },
 "nbformat": 4,
 "nbformat_minor": 5
}
