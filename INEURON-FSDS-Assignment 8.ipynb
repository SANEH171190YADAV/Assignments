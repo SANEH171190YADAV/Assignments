{
 "cells": [
  {
   "cell_type": "raw",
   "id": "aef6a6c3",
   "metadata": {},
   "source": [
    "1.\tIs the Python Standard Library included with PyInputPlus?\n",
    "Ans: PyinputPlus is a module which keep on asking until a valid input is given.\n",
    "\n",
    "2.\tWhy is PyInputPlus commonly imported with import pyinputplus as pypi?\n",
    "Ans : So that we can enter a short name while calling the module functions.\n",
    "\n",
    "3.\tHow do you distinguish between inputInt() and inputFloat()?\n",
    "Ans: inputint returns an integer value and inputfloat returns a float value.\n",
    "\n",
    "4.\tUsing PyInputPlus, how do you ensure that the user enters a whole number between 0 and 99?\n",
    "Ans: pyip.inputNum( min=0, max = 99)\n",
    "\n",
    "5.\tWhat is transferred to the keyword arguments allowRegexes and blockRegexes?\n",
    "\n",
    "6.\tIf a blank input is entered three times, what does inputStr(limit=3) do?\n",
    "Ans: it gives an error.\n",
    "\n",
    "7.\tIf blank input is entered three times, what does inputStr(limit=3, default='hello') do?\n",
    "Ans: error\n"
   ]
  },
  {
   "cell_type": "code",
   "execution_count": null,
   "id": "5da08d1b",
   "metadata": {},
   "outputs": [],
   "source": []
  }
 ],
 "metadata": {
  "kernelspec": {
   "display_name": "Python 3 (ipykernel)",
   "language": "python",
   "name": "python3"
  },
  "language_info": {
   "codemirror_mode": {
    "name": "ipython",
    "version": 3
   },
   "file_extension": ".py",
   "mimetype": "text/x-python",
   "name": "python",
   "nbconvert_exporter": "python",
   "pygments_lexer": "ipython3",
   "version": "3.9.7"
  }
 },
 "nbformat": 4,
 "nbformat_minor": 5
}
