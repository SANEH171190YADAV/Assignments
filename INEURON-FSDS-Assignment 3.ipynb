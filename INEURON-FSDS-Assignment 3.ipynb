{
 "cells": [
  {
   "cell_type": "raw",
   "id": "8a03615f",
   "metadata": {},
   "source": [
    "1. Why are functions advantageous to have in your programs?\n",
    "Ans: The function we need to create once and just use it as many time as you want. We need not to write code for same objective again and again."
   ]
  },
  {
   "cell_type": "raw",
   "id": "6d5e4ee9",
   "metadata": {},
   "source": [
    "2. When does the code in a function run: when it's specified or when it's called?\n",
    "    Ans: when a function is called, it will run."
   ]
  },
  {
   "cell_type": "raw",
   "id": "5469cf65",
   "metadata": {},
   "source": [
    "3. What statement creates a function?\n",
    "Ans: def function_name:"
   ]
  },
  {
   "cell_type": "raw",
   "id": "03678a74",
   "metadata": {},
   "source": [
    "4. What is the difference between a function and a function call?\n",
    "Ans: A function is a sequence of code we create once and use it later. Function call means after creating a function, we need to call it when we want to use it ."
   ]
  },
  {
   "cell_type": "raw",
   "id": "4d750c78",
   "metadata": {},
   "source": [
    "5. How many global scopes are there in a Python program? How many local scopes?\n",
    "Ans: Only one global scope and it remains until the program terminates.\n",
    "There is only one local scope in python program."
   ]
  },
  {
   "cell_type": "raw",
   "id": "0707287c",
   "metadata": {},
   "source": [
    "6. What happens to variables in a local scope when the function call returns?\n",
    "Ans: It will be destroyed. "
   ]
  },
  {
   "cell_type": "raw",
   "id": "0c454a3d",
   "metadata": {},
   "source": [
    "7. What is the concept of a return value? Is it possible to have a return value in an expression?\n",
    "Ans: The function returns any value after execution. Yes it is possible to have a return value in an expression. "
   ]
  },
  {
   "cell_type": "raw",
   "id": "5958859f",
   "metadata": {},
   "source": [
    "8. If a function does not have a return statement, what is the return value of a call to that function?\n",
    "Ans: The return statement in a function is necessary otherwise it will give a none type."
   ]
  },
  {
   "cell_type": "raw",
   "id": "1273b949",
   "metadata": {},
   "source": [
    "9. How do you make a function variable refer to the global variable?\n",
    "Ans: The variables defined outside the function are global variables. we can use global keyword as well."
   ]
  },
  {
   "cell_type": "raw",
   "id": "e6737e29",
   "metadata": {},
   "source": [
    "10. What is the data type of None?\n",
    "Ans: None type means null variable."
   ]
  },
  {
   "cell_type": "raw",
   "id": "d5606a2b",
   "metadata": {},
   "source": [
    "11. What does the sentence import areallyourpetsnamederic do?\n",
    "Ans : Import means to use the module or a package named areallyourpetsnamederic."
   ]
  },
  {
   "cell_type": "raw",
   "id": "8e481a92",
   "metadata": {},
   "source": [
    "12. If you had a bacon() feature in a spam module, what would you call it after importing spam?\n",
    "Ans: spam.becon()"
   ]
  },
  {
   "cell_type": "raw",
   "id": "4d603f73",
   "metadata": {},
   "source": [
    "13. What can you do to save a programme from crashing if it encounters an error?\n",
    "Ans: We must use exception handling to save the programme from crashing. Therefore try and except are used to create exception handling."
   ]
  },
  {
   "cell_type": "raw",
   "id": "b9eaec8b",
   "metadata": {},
   "source": [
    "14. What is the purpose of the try clause? What is the purpose of the except clause?\n",
    "Ans: The try clause checks the program if it is error free or not. If the code in try clause is error free, it will return and execute properly otherwise except clause will execute. this is how we can save the program from crashing if it encounters an error."
   ]
  }
 ],
 "metadata": {
  "kernelspec": {
   "display_name": "Python 3 (ipykernel)",
   "language": "python",
   "name": "python3"
  },
  "language_info": {
   "codemirror_mode": {
    "name": "ipython",
    "version": 3
   },
   "file_extension": ".py",
   "mimetype": "text/x-python",
   "name": "python",
   "nbconvert_exporter": "python",
   "pygments_lexer": "ipython3",
   "version": "3.9.7"
  }
 },
 "nbformat": 4,
 "nbformat_minor": 5
}
