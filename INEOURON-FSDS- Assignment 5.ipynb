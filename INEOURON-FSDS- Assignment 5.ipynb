{
 "cells": [
  {
   "cell_type": "raw",
   "id": "c3f6a110",
   "metadata": {},
   "source": [
    "1.\tWhat does an empty dictionary's code look like?\n",
    "Ans: a = { }\n"
   ]
  },
  {
   "cell_type": "markdown",
   "id": "faa8019e",
   "metadata": {},
   "source": [
    "2.\tWhat is the value of a dictionary value with the key 'foo' and the value 42?\n",
    "Ans: a = {“key” : 42}\n"
   ]
  },
  {
   "cell_type": "raw",
   "id": "941d2817",
   "metadata": {},
   "source": [
    "3.\tWhat is the most significant distinction between a dictionary and a list?\n",
    "Ans: A list is an ordered sequence of objects, whereas dictionaries are unordered sets. However, the main difference is that items in dictionaries are accessed using keys.\n"
   ]
  },
  {
   "cell_type": "raw",
   "id": "2fe90db6",
   "metadata": {},
   "source": [
    "4.\tWhat happens if you try to access spam['foo'] if spam is {'bar': 100}?\n",
    "Ans: It will give a key error\n"
   ]
  },
  {
   "cell_type": "raw",
   "id": "bdcaad98",
   "metadata": {},
   "source": [
    "5.\tIf a dictionary is stored in spam, what is the difference between the expressions 'cat' in spam and 'cat' in spam.keys()?\n",
    "Ans: No difference, it will show same results.\n"
   ]
  },
  {
   "cell_type": "raw",
   "id": "b8dc61ad",
   "metadata": {},
   "source": [
    "6. If a dictionary is stored in spam, what is the difference between the expressions 'cat' in spam and 'cat' in spam.values()?\n",
    "Ans: No difference, it will show same results."
   ]
  },
  {
   "cell_type": "raw",
   "id": "ab7425fb",
   "metadata": {},
   "source": [
    "7. What is a shortcut for the following code?\n",
    "if 'color' not in spam:\n",
    "spam['color'] = 'black'\n",
    "Ans: deafault error"
   ]
  },
  {
   "cell_type": "raw",
   "id": "b1f90fc1",
   "metadata": {},
   "source": [
    "8. How do you \"pretty print\" dictionary values using which module and function?\n",
    "Ans: use pprint.pprint()"
   ]
  }
 ],
 "metadata": {
  "kernelspec": {
   "display_name": "Python 3 (ipykernel)",
   "language": "python",
   "name": "python3"
  },
  "language_info": {
   "codemirror_mode": {
    "name": "ipython",
    "version": 3
   },
   "file_extension": ".py",
   "mimetype": "text/x-python",
   "name": "python",
   "nbconvert_exporter": "python",
   "pygments_lexer": "ipython3",
   "version": "3.9.7"
  }
 },
 "nbformat": 4,
 "nbformat_minor": 5
}
