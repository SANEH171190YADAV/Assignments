{
 "cells": [
  {
   "cell_type": "raw",
   "id": "819919fa",
   "metadata": {},
   "source": [
    "1.\tHow do you distinguish between shutil.copy() and shutil.copytree()?\n",
    "Ans: shutil.copy will copy a single file and shutil.copytree will copy an entire folder and every folder and file contained in it. \n",
    "\n",
    "2.\tWhat function is used to rename files?\n",
    "Ans: rename() method\n",
    "\n",
    "3.\tWhat is the difference between the delete functions in the send2trash and shutil modules?\n",
    "Ans: send2trash will move the file to recycle bin and shutil function will permanently delete files and folder. \n",
    "\n",
    "4.ZipFile objects have a close() method just like File objects’ close() method. What ZipFile     method is equivalent to File objects’ open() method?\n",
    "Ans: OpenRead(String) Method.\n",
    "\n",
    "5.\tCreate a programme that searches a folder tree for files with a certain file extension (such as .pdf or .jpg). Copy these files from whatever location they are in to a new folder.\n",
    "Ans: import os, shutil\n",
    "Def selectiveCopy(folder, extension, destFolder):\n",
    "Folder = os.path.abspath(folder)\n",
    "\n"
   ]
  }
 ],
 "metadata": {
  "kernelspec": {
   "display_name": "Python 3 (ipykernel)",
   "language": "python",
   "name": "python3"
  },
  "language_info": {
   "codemirror_mode": {
    "name": "ipython",
    "version": 3
   },
   "file_extension": ".py",
   "mimetype": "text/x-python",
   "name": "python",
   "nbconvert_exporter": "python",
   "pygments_lexer": "ipython3",
   "version": "3.9.7"
  }
 },
 "nbformat": 4,
 "nbformat_minor": 5
}
