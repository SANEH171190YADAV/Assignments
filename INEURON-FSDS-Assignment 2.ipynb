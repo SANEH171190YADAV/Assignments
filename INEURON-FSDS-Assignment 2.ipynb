{
 "cells": [
  {
   "cell_type": "raw",
   "id": "4890ae91",
   "metadata": {},
   "source": [
    "1.What are the two values of the Boolean data type? How do you write them?\n",
    "Ans: True and False"
   ]
  },
  {
   "cell_type": "raw",
   "id": "ccdb5335",
   "metadata": {},
   "source": [
    "2. What are the three different types of Boolean operators?\n",
    "Ans: AND< OR< NOT"
   ]
  },
  {
   "cell_type": "raw",
   "id": "e94eeccf",
   "metadata": {},
   "source": [
    "3. Make a list of each Boolean operator's truth tables (i.e. every possible combination of Boolean values for the operator and what it evaluate ).\n",
    "Ans: \n",
    "TRUE AND TRUE = TRUE\n",
    "TRUE AND FALSE = false\n",
    "FALSE AND TRUE = false\n",
    "FALSE AND FALSE = FALSE\n",
    "\n",
    "TRUE OR TRUE will = TRUE\n",
    "TRUE OR FALSE = True\n",
    "FALSE OR TRUE = true\n",
    "FALSE OR FALSE = FALSE\n",
    "\n",
    "NOT TRUE  = False\n",
    "NOT FALSE = TRUE\n"
   ]
  },
  {
   "cell_type": "raw",
   "id": "efcee5ea",
   "metadata": {},
   "source": [
    "4. What are the values of the following expressions?\n",
    "(5 > 4) and (3 == 5) False\n",
    "not (5 > 4) FAlse \n",
    "(5 > 4) or (3 == 5) True\n",
    "not ((5 > 4) or (3 == 5)) False\n",
    "(True and True) and (True == False)   False\n",
    "(not False) or (not True) TRUE\n"
   ]
  },
  {
   "cell_type": "raw",
   "id": "daf91f4c",
   "metadata": {},
   "source": [
    "5. What are the six comparison operators?\n",
    "Ans: >, <, =, >=, <=, !=\n"
   ]
  },
  {
   "cell_type": "raw",
   "id": "f975940a",
   "metadata": {},
   "source": [
    "6. How do you tell the difference between the equal to and assignment operators?Describe a condition and when you would use one.\n",
    "Ans: the equal to symbol is == and the assignment operator symbol is =. For eg. x= 5, here we are assigning a value 5 to variable x. if we are asking 3==5 means is 3 equal to 5. "
   ]
  },
  {
   "cell_type": "raw",
   "id": "a0440fe0",
   "metadata": {},
   "source": [
    "7. Identify the three blocks in this code:\n",
    "Ans: initialize and assiging values \n",
    "spam = 0\n",
    "\n",
    "conditions/loop\n",
    "if spam == 10:\n",
    "\n",
    "function\n",
    "\n",
    "print('eggs')\n",
    "\n",
    "condition\n",
    "\n",
    "if spam > 5:\n",
    "\n",
    "function and condition\n",
    "\n",
    "print('bacon')\n",
    "else:\n",
    "print('ham')\n",
    "print('spam')\n",
    "print('spam')\n",
    "\n",
    "\n"
   ]
  },
  {
   "cell_type": "raw",
   "id": "46d60816",
   "metadata": {},
   "source": [
    "8. Write code that prints Hello if 1 is stored in spam, prints Howdy if 2 is stored in spam, and prints Greetings! if anything else is stored in spam."
   ]
  },
  {
   "cell_type": "code",
   "execution_count": null,
   "id": "c367a7f4",
   "metadata": {},
   "outputs": [],
   "source": [
    "spam = int(input())\n",
    "if spam == 1:\n",
    "    print(\"Hello\")\n",
    "elif spam == 2:\n",
    "    print(\"Howdy\")\n",
    "else :\n",
    "    print(\"Greetings!\")"
   ]
  },
  {
   "cell_type": "raw",
   "id": "d06a7816",
   "metadata": {},
   "source": [
    "9.If your programme is stuck in an endless loop, what keys you’ll press?\n",
    "Ans: CTRL+C"
   ]
  },
  {
   "cell_type": "raw",
   "id": "b1cb2088",
   "metadata": {},
   "source": [
    "10. How can you tell the difference between break and continue?\n",
    "Ans: The breake statement is used in swich statement and in all kind of loops to get out of the loop.\n",
    "    The continue statement is not used in swich but used in all other loops. It means to go ahead or continue."
   ]
  },
  {
   "cell_type": "raw",
   "id": "aec0dc87",
   "metadata": {},
   "source": [
    "11. In a for loop, what is the difference between range(10), range(0, 10), and range(0, 10, 1)?\n",
    "Ans: All will give same output. \n",
    "    range(10) will give a sequence of values starting from 0 till 9.\n",
    "    range(0, 10) means a sequence of values from 0 to 9\n",
    "    range(0,10,1) means a sequence of values from 0 and a skip of 1 till 9"
   ]
  },
  {
   "cell_type": "raw",
   "id": "df8fae18",
   "metadata": {},
   "source": [
    "12. Write a short program that prints the numbers 1 to 10 using a for loop. Then write an equivalent program that prints the numbers 1 to 10 using a while loop."
   ]
  },
  {
   "cell_type": "code",
   "execution_count": null,
   "id": "df1481d7",
   "metadata": {},
   "outputs": [],
   "source": [
    "for i in range(1, 11):\n",
    "    print(i)"
   ]
  },
  {
   "cell_type": "code",
   "execution_count": null,
   "id": "90dc9ff4",
   "metadata": {},
   "outputs": [],
   "source": [
    "i = 1\n",
    "while(i<=10):\n",
    "    print(i)\n",
    "    i += 1"
   ]
  },
  {
   "cell_type": "raw",
   "id": "97e0f2eb",
   "metadata": {},
   "source": [
    "13. If you had a function named bacon() inside a module named spam, how would you call it after importing spam?\n",
    "Ans: modulename. function name()\n",
    "spam.becon()"
   ]
  },
  {
   "cell_type": "code",
   "execution_count": null,
   "id": "fea75260",
   "metadata": {},
   "outputs": [],
   "source": []
  }
 ],
 "metadata": {
  "kernelspec": {
   "display_name": "Python 3 (ipykernel)",
   "language": "python",
   "name": "python3"
  },
  "language_info": {
   "codemirror_mode": {
    "name": "ipython",
    "version": 3
   },
   "file_extension": ".py",
   "mimetype": "text/x-python",
   "name": "python",
   "nbconvert_exporter": "python",
   "pygments_lexer": "ipython3",
   "version": "3.9.7"
  }
 },
 "nbformat": 4,
 "nbformat_minor": 5
}
