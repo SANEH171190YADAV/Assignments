{
 "cells": [
  {
   "cell_type": "raw",
   "id": "6ffbe9b2",
   "metadata": {},
   "source": [
    "1.\tWhat advantages do Excel spreadsheets have over CSV spreadsheets?\n",
    "Ans: Excel file stores data in formatted way and it has various features such as formatting, macros etc.\n",
    "2.\tWhat do you pass to csv.reader() and csv.writer() to create reader and writer objects?\n",
    "Ans: We pass ‘r’ for read file  and ‘w’ for write in a file.\n",
    "3.\tWhat modes do File objects for reader and writer objects need to be opened in?\n",
    "Ans: ‘r+’ is used to open a file in read and write mode both.\n",
    "4.\tWhat method takes a list argument and writes it to a CSV file?\n",
    "Ans: csv.write()\n",
    "5.\tWhat do the keyword arguments delimiter and line terminator do?\n",
    "Ans: The delimiter  means using a comma to separate strings in CSV file. Line terminator is used to go on new line.\n",
    "6.\tWhat function takes a string of JSON data and returns a Python data structure?\n",
    "Ans: decode() function is used\n",
    "7.\tWhat function takes a Python data structure and returns a string of JSON data?\n",
    "Ans: json.loads()\n",
    "\n"
   ]
  }
 ],
 "metadata": {
  "kernelspec": {
   "display_name": "Python 3 (ipykernel)",
   "language": "python",
   "name": "python3"
  },
  "language_info": {
   "codemirror_mode": {
    "name": "ipython",
    "version": 3
   },
   "file_extension": ".py",
   "mimetype": "text/x-python",
   "name": "python",
   "nbconvert_exporter": "python",
   "pygments_lexer": "ipython3",
   "version": "3.9.7"
  }
 },
 "nbformat": 4,
 "nbformat_minor": 5
}
